{
 "cells": [
  {
   "cell_type": "markdown",
   "id": "0ff182b1",
   "metadata": {
    "id": "0ff182b1"
   },
   "source": [
    "## Introduction\n",
    "\n",
    "![](https://download.logo.wine/logo/ASOS_(retailer)/ASOS_(retailer)-Logo.wine.png)\n",
    "\n",
    "It's your first day on the job and you're given data about the weekly revenue at ASOS.\n",
    "\n",
    "In the list named `revenue_by_week`, you'll find a snippet of ASOS's estimated weekly revenue, captured in millons of pounds.\n",
    "\n",
    "But, ugh! There seems to be some bugs with how the data was stored in the list 😭"
   ]
  },
  {
   "cell_type": "code",
   "execution_count": 3,
   "id": "1201302e",
   "metadata": {
    "colab": {
     "base_uri": "https://localhost:8080/",
     "height": 204
    },
    "executionInfo": {
     "elapsed": 131,
     "status": "error",
     "timestamp": 1676669200323,
     "user": {
      "displayName": "Lauren Crider",
      "userId": "01906226610995258482"
     },
     "user_tz": 420
    },
    "id": "1201302e",
    "outputId": "ad15003f-1332-40cd-a0a5-221e5f70b9d0"
   },
   "outputs": [
    {
     "data": {
      "text/plain": [
       "1038"
      ]
     },
     "execution_count": 3,
     "metadata": {},
     "output_type": "execute_result"
    }
   ],
   "source": [
    "revenue_by_week = [65, 77, 66, 74, \n",
    "                   64, 82, 86, 72, 80,\n",
    "                   96, 101, 35, 72, 68\n",
    "                  ]\n",
    "\n",
    "sum(revenue_by_week)"
   ]
  },
  {
   "cell_type": "markdown",
   "id": "46af0e4d",
   "metadata": {
    "id": "46af0e4d"
   },
   "source": [
    "Use the skills you learned about lists, functions, and loops to get this data sorted out.\n",
    "\n",
    "## Task 1: Fixing The Data\n",
    "\n",
    "![](https://media.giphy.com/media/QsnQsvAkrkKGiHZuo8/giphy.gif)\n",
    "\n",
    "Take a closer look at that error from the cell above, coming from running the `sum()` function. \n",
    "\n",
    "It's a TypeError. Python is basically saying that it doesn't know how to add (`+`) a number (`int`) and string (`str`) together. \n",
    "\n",
    "So now take a closer look at the `revenue_by_week` list. You can see that some of the numbers are there as numbers (without the surrounding `''` quotes), and some of them are strings (with surrounding `''` quotes).\n",
    "\n",
    "While you could go into the list and manually remove all of the `'` marks, that sounds like a pain, and imagine if you had a lot more numbers than the three months of ASOS data. You can use your programming skills so that Python does the manual work for you! There's a built-in function, `int()`, that changes the argument given to it into a number. **Run the cell below** to see a demonstration on some various data types. \n",
    "\n",
    "<span style='background :#FFF59E'>**Note**: The last line in the cell will give an error since a `list` is not a number (the individual elements can be, though!)</span>"
   ]
  },
  {
   "cell_type": "code",
   "execution_count": null,
   "id": "5838519a",
   "metadata": {
    "colab": {
     "base_uri": "https://localhost:8080/",
     "height": 258
    },
    "executionInfo": {
     "elapsed": 116,
     "status": "error",
     "timestamp": 1676668702123,
     "user": {
      "displayName": "Lauren Crider",
      "userId": "01906226610995258482"
     },
     "user_tz": 420
    },
    "id": "5838519a",
    "outputId": "86280bbc-ecdd-4254-cbf1-8518ac0844d9"
   },
   "outputs": [
    {
     "name": "stdout",
     "output_type": "stream",
     "text": [
      "105\n",
      "52\n",
      "97\n"
     ]
    },
    {
     "ename": "TypeError",
     "evalue": "ignored",
     "output_type": "error",
     "traceback": [
      "\u001b[0;31m---------------------------------------------------------------------------\u001b[0m",
      "\u001b[0;31mTypeError\u001b[0m                                 Traceback (most recent call last)",
      "\u001b[0;32m<ipython-input-5-7bbe3e27b9b7>\u001b[0m in \u001b[0;36m<module>\u001b[0;34m\u001b[0m\n\u001b[1;32m      2\u001b[0m \u001b[0mprint\u001b[0m\u001b[0;34m(\u001b[0m\u001b[0mint\u001b[0m\u001b[0;34m(\u001b[0m\u001b[0;36m52.80\u001b[0m\u001b[0;34m)\u001b[0m\u001b[0;34m)\u001b[0m \u001b[0;31m# decimal (float)\u001b[0m\u001b[0;34m\u001b[0m\u001b[0;34m\u001b[0m\u001b[0m\n\u001b[1;32m      3\u001b[0m \u001b[0mprint\u001b[0m\u001b[0;34m(\u001b[0m\u001b[0mint\u001b[0m\u001b[0;34m(\u001b[0m\u001b[0;34m'97'\u001b[0m\u001b[0;34m)\u001b[0m\u001b[0;34m)\u001b[0m  \u001b[0;31m# integer string\u001b[0m\u001b[0;34m\u001b[0m\u001b[0;34m\u001b[0m\u001b[0m\n\u001b[0;32m----> 4\u001b[0;31m \u001b[0mprint\u001b[0m\u001b[0;34m(\u001b[0m\u001b[0mint\u001b[0m\u001b[0;34m(\u001b[0m\u001b[0;34m[\u001b[0m\u001b[0;36m105\u001b[0m\u001b[0;34m,\u001b[0m \u001b[0;34m'97'\u001b[0m\u001b[0;34m]\u001b[0m\u001b[0;34m)\u001b[0m\u001b[0;34m)\u001b[0m \u001b[0;31m# list\u001b[0m\u001b[0;34m\u001b[0m\u001b[0;34m\u001b[0m\u001b[0m\n\u001b[0m",
      "\u001b[0;31mTypeError\u001b[0m: int() argument must be a string, a bytes-like object or a number, not 'list'"
     ]
    }
   ],
   "source": [
    "# Run this cell (it will give you an error)\n",
    "print(int(105))   # integer\n",
    "print(int(52.80)) # decimal (float)\n",
    "print(int('97'))  # integer string\n",
    "print(int([105, '97'])) # list"
   ]
  },
  {
   "cell_type": "markdown",
   "id": "291f51c4",
   "metadata": {
    "id": "291f51c4"
   },
   "source": [
    "Notice that the `int()` function can accept values that are already numbers (chopping off any decimal part if present) or strings that depict integers (it will fail on decimal strings, however). But you should also notice that Python threw an error when we tried to give it a list.\n",
    "\n",
    "In order to clean the data, we need to do that item by item. And how do we go item by item? Yes! We use a loop!\n",
    "\n",
    "![](https://media.giphy.com/media/ryQDjtPSPfgeA/giphy.gif)\n",
    "\n",
    "To complete this task, create a new list `cleaned_revenue` that has all of the data values in a numeric data type:\n",
    "- Set up `cleaned_revenue` as an empty list.\n",
    "- Use a `for` loop to loop over the elements of `revenue_by_week`.\n",
    "  - For each element, convert it to an integer data type with the `int()` function\n",
    "  - Append the converted value to the `cleaned_revenue` list.\n",
    "\n",
    "Outside of your loop, `print` the completed `cleaned_revenue` and `print` the total sum of values."
   ]
  },
  {
   "cell_type": "code",
   "execution_count": 7,
   "id": "acdf642e",
   "metadata": {
    "id": "acdf642e"
   },
   "outputs": [
    {
     "name": "stdout",
     "output_type": "stream",
     "text": [
      "[65, 77, 66, 74, 64, 82, 86, 72, 80, 96, 101, 35, 72, 68]\n",
      "1038\n"
     ]
    }
   ],
   "source": [
    "# define the cleaned_revenue variable and set to zero\n",
    "\n",
    "cleaned_revenue = []\n",
    "# loop through data and convert to integers\n",
    "\n",
    "for revenue in revenue_by_week:\n",
    "    cleaned_revenue.append(int(revenue))\n",
    "\n",
    "# print the cleaned_revenue variable\n",
    "\n",
    "\n",
    "# print the total sum of values\n",
    "print(cleaned_revenue)\n",
    "print(sum(cleaned_revenue))"
   ]
  },
  {
   "cell_type": "markdown",
   "id": "QBXbxU64cXWG",
   "metadata": {
    "id": "QBXbxU64cXWG"
   },
   "source": [
    "<span style='background :#DDD5F3'>If done correctly, the value for the sum of `cleaned_revenue` should be **1038**</span>"
   ]
  },
  {
   "cell_type": "markdown",
   "id": "5fdd28a0",
   "metadata": {
    "id": "5fdd28a0"
   },
   "source": [
    "## Task 2: Slicing and Dicing\n",
    "\n",
    "![](https://media.giphy.com/media/vsuBq0HLMUw6nTqLWS/giphy.gif)\n",
    "\n",
    "Your friend is so pleased with your work that they want you to do some additional calculations. \n",
    "\n",
    "- **What was the total amount made in each month?**\n",
    "- **Which month had the highest average (weekly revenue?**\n",
    "\n",
    "To answer these questions, you should know that the months are divided so that the first four weeks were June, the middle five weeks were July (5th-9th entries in list), and the last five weeks were August (10th-14th entries in list). \n",
    "\n",
    "Use slicing to get the relevant parts of the original revenue list, then use the `sum()` and `len()` functions to help you calculate the total and average for each month: the average will be the total revenue divided by the number of weeks. \n",
    "\n",
    "<span style='background :#FFF59E'>**Tip**: Be careful about how indexing works in Python! You might want to try printing the slices you pull out first to check that they're capturing the correct values, before trying to summarize them.</span>"
   ]
  },
  {
   "cell_type": "code",
   "execution_count": 12,
   "id": "cf67fdf5",
   "metadata": {
    "id": "cf67fdf5"
   },
   "outputs": [
    {
     "name": "stdout",
     "output_type": "stream",
     "text": [
      "282\n",
      "70.5\n",
      "384\n",
      "76.8\n",
      "372\n",
      "74.4\n"
     ]
    }
   ],
   "source": [
    "# revenue by month \n",
    "June = cleaned_revenue[0:4]\n",
    "July = cleaned_revenue[4:9]\n",
    "August = cleaned_revenue[9:14]\n",
    "\n",
    "\n",
    "# calculate the averages \n",
    "# remember to use sum and len functions!\n",
    "\n",
    "avg_june = sum(June) / len(June)\n",
    "avg_july = sum(July) / len(July)\n",
    "avg_aug = sum(August) / len(August)\n",
    "\n",
    "# print the total amount and average revenue for each month\n",
    "print(sum(June))\n",
    "print(avg_june)\n",
    "print(sum(July))\n",
    "print(avg_july)\n",
    "print(sum(August))\n",
    "print(avg_aug)\n"
   ]
  },
  {
   "cell_type": "markdown",
   "id": "3941057e",
   "metadata": {
    "id": "3941057e"
   },
   "source": [
    "*(Double-click this cell and add which month had the highest average revenue.)* "
   ]
  },
  {
   "cell_type": "markdown",
   "id": "ig9mhhgjvQns",
   "metadata": {
    "id": "ig9mhhgjvQns"
   },
   "source": [
    "<span style='background :#DDD5F3'>If done correctly the average values you should get are:\n",
    "    \n",
    "- June: 70.5\n",
    "- July: 76.8; 384 with the highest revenue\n",
    "- August: 74.4\n",
    "</span>"
   ]
  },
  {
   "cell_type": "code",
   "execution_count": null,
   "id": "XDrqo93nuTjo",
   "metadata": {
    "id": "XDrqo93nuTjo"
   },
   "outputs": [],
   "source": []
  }
 ],
 "metadata": {
  "colab": {
   "provenance": []
  },
  "kernelspec": {
   "display_name": "Python 3 (ipykernel)",
   "language": "python",
   "name": "python3"
  },
  "language_info": {
   "codemirror_mode": {
    "name": "ipython",
    "version": 3
   },
   "file_extension": ".py",
   "mimetype": "text/x-python",
   "name": "python",
   "nbconvert_exporter": "python",
   "pygments_lexer": "ipython3",
   "version": "3.10.6"
  }
 },
 "nbformat": 4,
 "nbformat_minor": 5
}
